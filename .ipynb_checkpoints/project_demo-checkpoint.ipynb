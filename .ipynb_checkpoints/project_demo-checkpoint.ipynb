{
 "cells": [
  {
   "cell_type": "code",
   "execution_count": 1,
   "metadata": {
    "scrolled": false
   },
   "outputs": [],
   "source": [
    "import pandas as pd\n",
    "import numpy as np\n",
    "import matplotlib.pyplot as plt\n",
    "import os\n",
    "import sys\n",
    "sys.path.insert(0, os.path.abspath('./'))\n",
    "import exp_draft_team_selector as edts\n",
    "import warnings;\n",
    "warnings.filterwarnings('ignore');"
   ]
  },
  {
   "cell_type": "code",
   "execution_count": 2,
   "metadata": {},
   "outputs": [],
   "source": [
    "### This notebook runs the functions in my code module. The parameters passed to the functions\n",
    "### are:\n",
    "# Year (2011 - 2019) - need to pass this to each of the functions that need it.\n",
    "# protect method - 'split73', 'any8', or 'hybrid' - passed only to the team_processor().\n",
    "# team_selector_by_team_strength - True/False.\n",
    "### Please note that each function also takes the dataframe created by the previous one.\n",
    "### Two functions do not return a dataframe:\n",
    "#  calc_base_stats\n",
    "#  team_selector_by_team_strength - returns the selected team and the score."
   ]
  },
  {
   "cell_type": "code",
   "execution_count": 2,
   "metadata": {
    "scrolled": true
   },
   "outputs": [],
   "source": [
    "df = edts.load_setup(2018)"
   ]
  },
  {
   "cell_type": "code",
   "execution_count": 3,
   "metadata": {},
   "outputs": [],
   "source": [
    "df1 = edts.calc_player_value(df)"
   ]
  },
  {
   "cell_type": "code",
   "execution_count": 4,
   "metadata": {},
   "outputs": [],
   "source": [
    "edts.calc_base_stats(df1)"
   ]
  },
  {
   "cell_type": "code",
   "execution_count": 5,
   "metadata": {
    "scrolled": true
   },
   "outputs": [],
   "source": [
    "df2 = edts.calc_team_strength(df1, 2018)"
   ]
  },
  {
   "cell_type": "code",
   "execution_count": 6,
   "metadata": {},
   "outputs": [],
   "source": [
    "df3 = edts.remove_first_second_years(df2,2018)"
   ]
  },
  {
   "cell_type": "code",
   "execution_count": 7,
   "metadata": {},
   "outputs": [],
   "source": [
    "df4 = edts.reduce_vars(df3) "
   ]
  },
  {
   "cell_type": "code",
   "execution_count": 8,
   "metadata": {},
   "outputs": [],
   "source": [
    "df5 = edts.team_processor(df4, 2018, 'split73')"
   ]
  },
  {
   "cell_type": "code",
   "execution_count": 9,
   "metadata": {
    "scrolled": true
   },
   "outputs": [
    {
     "name": "stdout",
     "output_type": "stream",
     "text": [
      "                  Player  Age   Tm Pos   PS  adjPTS  adj+/-   adjTOI  Ztot\n",
      "324       Michael Frolik   30  CGY  LW  4.2   42.89   30.28  1095.02  4.37\n",
      "299      Micheal Ferland   26  CAR  LW  4.7   46.20   15.01  1156.08  3.47\n",
      "188       Brett Connolly   26  WSH  RW  5.2   46.57   13.16  1093.33  3.35\n",
      "130           Paul Byron   29  MTL   C  3.8   45.39   23.43  1194.86  2.93\n",
      "170        Casey Cizikas   27  NYI   C  4.6   37.07   24.71  1150.25  2.47\n",
      "242       Joonas Donskoi   26  SJS  RW  3.4   37.92   10.25  1100.85  2.36\n",
      "678          J.T. Miller   25  TBL   C  4.2   51.39    8.75  1202.67  2.27\n",
      "70    Oliver Bjorkstrand   23  CBJ  RW  4.8   38.34    8.52  1011.69  2.26\n",
      "843      Antoine Roussel   29  VAN  LW  2.9   39.11    6.31  1127.82  2.15\n",
      "190          Andrew Copp   24  WPG   C  2.9   29.71   23.77   997.07  1.92\n",
      "920          Craig Smith   29  NSH   C  4.5   41.00   11.87  1240.79  1.81\n",
      "117         Connor Brown   25  TOR  RW  2.0   29.00   11.00  1131.00  1.62\n",
      "861         Zach Sanford   24  STL  LW  2.0   27.33   10.93  1031.83  1.47\n",
      "886       Brent Seabrook   33  CHI   D  3.2   29.44   -6.31  1566.41  1.45\n",
      "60          Matt Benning   24  EDM   D  4.0   19.91   12.89  1225.31  1.36\n",
      "612          Olli Maatta   24  PIT   D  2.7   19.13   12.30  1523.83  1.21\n",
      "19      Sven Andrighetto   25  COL  RW  1.6   21.78   12.81   907.12  1.12\n",
      "895    Kevin Shattenkirk   30  NYR   D  3.1   31.45  -16.85  1553.51  1.04\n",
      "735      Jordan Oesterle   26  ARI   D  4.6   23.10   -3.46  1549.92  0.72\n",
      "737       Jamie Oleksiak   26  DAL   D  2.7   17.26    7.19  1208.42  0.59\n",
      "399          Robert Hagg   23  PHI   D  3.3   20.00   -3.00  1390.00  0.31\n",
      "685           John Moore   28  BOS   D  2.8   17.48    0.00  1539.18  0.14\n",
      "1036    MacKenzie Weegar   25  FLA   D  2.7   19.22   -3.84  1391.44  0.14\n",
      "Team is scored by the following stats: \n",
      "+/-: Goal differential. One of many player stats.\n",
      "PS: Player score:  An overall player evaluation stat provided by the NHL\n",
      "Ztot: My own overall player evaluation stat.\n",
      "Team adj+/- score: 1.39 standard deviations away from the adj+/- mean\n",
      "Team PS score: 0.33 standard deviations away from the PS mean\n",
      "Team Ztot score: 0.70 standard deviations away from the Ztot mean\n"
     ]
    }
   ],
   "source": [
    "edts.team_selector_fwd_first(df5)"
   ]
  },
  {
   "cell_type": "code",
   "execution_count": null,
   "metadata": {},
   "outputs": [],
   "source": [
    "### This next function is also in my code module and handles all the work for you. \n",
    "### It calls the rest of the functions and prints the selected team.\n",
    "### You need to pass it one extra parameter though:\n",
    "# pick_method - 'strength', or 'topdown' - the method for selecting a team.\n",
    "### The pick_method variable tell it which of two functions to call to select the \n",
    "### team.  The True/False variable is used if the method is 'strength'."
   ]
  },
  {
   "cell_type": "code",
   "execution_count": 10,
   "metadata": {
    "scrolled": true
   },
   "outputs": [
    {
     "name": "stdout",
     "output_type": "stream",
     "text": [
      "                Player  Age   Tm Pos   PS  adjPTS  adj+/-   adjTOI  Ztot\n",
      "996    Matthew Tkachuk   21  CGY  LW  8.8   78.92   14.35  1443.20  6.32\n",
      "773       David Perron   30  STL  LW  5.5   66.18    4.32  1401.19  4.40\n",
      "15       Josh Anderson   24  CBJ  RW  6.2   47.00   25.00  1396.00  4.32\n",
      "63      Tyler Bertuzzi   23  DET  LW  5.2   52.79   12.36  1354.68  3.84\n",
      "514      Michal Kempny   28  WSH   D  5.3   28.87   27.72  1573.01  3.65\n",
      "299    Micheal Ferland   26  CAR  LW  4.7   46.20   15.01  1156.08  3.47\n",
      "400        Ron Hainsey   37  TOR   D  5.6   23.28   30.37  1661.26  3.02\n",
      "851         Bryan Rust   26  PIT  RW  3.7   39.86   11.39  1304.03  2.62\n",
      "84         Nick Bonino   30  NSH   C  4.1   35.43   27.33  1337.31  2.55\n",
      "767        Adam Pelech   24  NYI   D  5.9   22.08   23.13  1527.51  2.36\n",
      "545        Brett Kulak   25  MTL   D  3.9   24.46   17.26  1463.05  2.31\n",
      "843    Antoine Roussel   29  VAN  LW  2.9   39.11    6.31  1127.82  2.15\n",
      "235     Brenden Dillon   28  SJS   D  4.5   22.00   19.00  1455.00  2.07\n",
      "176     Braydon Coburn   33  TBL   D  3.4   25.49    4.43  1320.86  1.60\n",
      "122   Pavel Buchnevich   23  NYR  LW  4.0   48.69  -12.81  1244.09  1.50\n",
      "1063    Nikita Zadorov   23  COL   D  4.4   16.40   22.26  1410.40  1.48\n",
      "60        Matt Benning   24  EDM   D  4.0   19.91   12.89  1225.31  1.36\n",
      "256    Anthony Duclair   23  OTT  LW  3.6   36.57   -2.22  1041.62  1.26\n",
      "530     Travis Konecny   21  PHI   C  4.9   49.00   -4.00  1251.00  1.20\n",
      "444       Mike Hoffman   29  FLA   C  7.3   70.00  -24.00  1463.00  1.15\n",
      "163        Ben Chiarot   27  WPG   D  3.8   21.03    6.31  1526.46  1.08\n",
      "829    Brad Richardson   33  ARI   C  3.7   33.55    7.45  1309.52  1.01\n",
      "799   Jason Pominville   36  BUF  RW  3.2   34.82   -4.49  1022.19  0.92\n",
      "Team is scored by the following stats: \n",
      "+/-: Goal differential. One of many player stats.\n",
      "PS: Player score:  An overall player evaluation stat provided by the NHL\n",
      "Ztot: My own overall player evaluation stat.\n",
      "Team adj+/- score: 1.58 standard deviations away from the adj+/- mean\n",
      "Team PS score: 2.00 standard deviations away from the PS mean\n",
      "Team Ztot score: 1.42 standard deviations away from the Ztot mean\n"
     ]
    }
   ],
   "source": [
    "edts.simulate_nhl_exp_draft(2018,'hybrid', 'deffirst')"
   ]
  },
  {
   "cell_type": "code",
   "execution_count": null,
   "metadata": {},
   "outputs": [],
   "source": []
  }
 ],
 "metadata": {
  "kernelspec": {
   "display_name": "Python 3",
   "language": "python",
   "name": "python3"
  },
  "language_info": {
   "codemirror_mode": {
    "name": "ipython",
    "version": 3
   },
   "file_extension": ".py",
   "mimetype": "text/x-python",
   "name": "python",
   "nbconvert_exporter": "python",
   "pygments_lexer": "ipython3",
   "version": "3.7.3"
  }
 },
 "nbformat": 4,
 "nbformat_minor": 2
}

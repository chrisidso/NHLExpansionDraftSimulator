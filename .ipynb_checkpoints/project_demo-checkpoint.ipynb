{
 "cells": [
  {
   "cell_type": "code",
   "execution_count": 1,
   "metadata": {
    "scrolled": false
   },
   "outputs": [],
   "source": [
    "import pandas as pd\n",
    "import numpy as np\n",
    "import matplotlib.pyplot as plt\n",
    "import os\n",
    "import sys\n",
    "sys.path.insert(0, os.path.abspath('./'))\n",
    "import exp_draft_team_selector as edts\n",
    "import warnings;\n",
    "warnings.filterwarnings('ignore');"
   ]
  },
  {
   "cell_type": "code",
   "execution_count": 2,
   "metadata": {},
   "outputs": [],
   "source": [
    "### This notebook runs the functions in my code module. The parameters passed to the functions\n",
    "### are:\n",
    "# Year (2011 - 2019) - need to pass this to each of the functions that need it.\n",
    "# protect method - 'split73', 'any8', or 'hybrid' - passed only to the team_processor().\n",
    "### Please note that each function also takes the dataframe created by the previous one.\n",
    "### These functions do not return a dataframe:\n",
    "#  calc_base_stats , team_selector_by_team_strength, team_selector_def_first, team_selector_fwd_first,\n",
    "# team_selector_best_top_down, team_selector_alternate"
   ]
  },
  {
   "cell_type": "code",
   "execution_count": 2,
   "metadata": {
    "scrolled": true
   },
   "outputs": [],
   "source": [
    "df = edts.load_setup(2019)"
   ]
  },
  {
   "cell_type": "code",
   "execution_count": 3,
   "metadata": {},
   "outputs": [],
   "source": [
    "df1 = edts.calc_player_value(df)"
   ]
  },
  {
   "cell_type": "code",
   "execution_count": 4,
   "metadata": {},
   "outputs": [],
   "source": [
    "edts.calc_base_stats(df1)"
   ]
  },
  {
   "cell_type": "code",
   "execution_count": 5,
   "metadata": {
    "scrolled": true
   },
   "outputs": [],
   "source": [
    "df2 = edts.calc_team_strength(df1, 2019)"
   ]
  },
  {
   "cell_type": "code",
   "execution_count": 6,
   "metadata": {},
   "outputs": [],
   "source": [
    "df3 = edts.remove_first_second_years(df2,2019)"
   ]
  },
  {
   "cell_type": "code",
   "execution_count": 7,
   "metadata": {},
   "outputs": [],
   "source": [
    "df4 = edts.reduce_vars(df3) "
   ]
  },
  {
   "cell_type": "code",
   "execution_count": 8,
   "metadata": {},
   "outputs": [],
   "source": [
    "df5 = edts.team_processor(df4, 2019, 'any8')"
   ]
  },
  {
   "cell_type": "code",
   "execution_count": 9,
   "metadata": {
    "scrolled": true
   },
   "outputs": [
    {
     "name": "stdout",
     "output_type": "stream",
     "text": [
      "               Player  Age   Tm Pos   PS  adjPTS  adj+/-   adjTOI  Ztot\n",
      "243    Nikolaj Ehlers   23  WPG  LW  6.8   66.99   16.17  1354.73  5.52\n",
      "112  Andre Burakovsky   24  COL  LW  5.4   63.62   15.55  1246.97  5.17\n",
      "706      Ondrej Palat   28  TBL  LW  4.7   48.72   29.71  1327.45  4.87\n",
      "275       Kevin Fiala   23  MIN  LW  6.0   69.19   -1.28  1263.31  4.39\n",
      "971       Jakub Vrana   23  WSH  LW  6.1   61.80    3.57  1220.49  4.08\n",
      "429  Patric Hornqvist   33  PIT  RW  3.9   50.46   14.19  1305.69  3.84\n",
      "240     Jordan Eberle   29  NYI  RW  4.1   56.55    1.41  1460.45  3.43\n",
      "805      Zach Sanford   25  STL  LW  3.9   42.41   18.38  1126.79  3.42\n",
      "110  Pavel Buchnevich   24  NYR  LW  4.1   55.47    2.41  1387.97  3.40\n",
      "917       Tomas Tatar   29  MTL   C  7.0   73.56    6.03  1336.12  3.21\n",
      "28       Cam Atkinson   30  CBJ  RW  2.9   48.45    3.73  1462.95  2.85\n",
      "509    Travis Konecny   22  PHI   C  6.7   75.79   -1.24  1377.85  2.84\n",
      "688  William Nylander   23  TOR   C  6.7   71.15   -2.41  1492.88  2.48\n",
      "83        Nick Bonino   31  NSH   C  4.1   42.84   20.81  1354.84  2.41\n",
      "373   Erik Gustafsson   27  CGY   D  3.9   36.03  -11.18  1671.06  2.11\n",
      "750        Mark Pysyk   28  FLA   D  3.3   25.45    5.66  1046.21  1.72\n",
      "242    Joel Edmundson   26  CAR   D  4.3   24.12    8.44  1513.38  1.72\n",
      "885      Troy Stecher   25  VAN   D  3.8   20.20   11.88  1258.52  1.39\n",
      "59       Matt Benning   25  EDM   D  2.1   15.26   15.26  1085.07  0.91\n",
      "692   Jordan Oesterle   27  ARI   D  2.2   18.38  -12.72  1395.41 -0.51\n",
      "545     Jacob Larsson   22  ANA   D  1.7   15.03  -12.30  1324.30 -0.96\n",
      "694    Jamie Oleksiak   27  DAL   D  2.4   11.88   -7.13  1296.55 -1.06\n",
      "654     Mirco Mueller   24  NJD   D  1.0   11.48  -21.32  1446.48 -2.07\n",
      "Team is scored by the following stats: \n",
      "+/-: Goal differential. One of many player stats.\n",
      "PS: Player score:  An overall player evaluation stat provided by the NHL\n",
      "Ztot: My own overall player evaluation stat.\n",
      "Team adj+/- score: 0.90 standard deviations away from the adj+/- mean\n",
      "Team PS score: 2.24 standard deviations away from the PS mean\n",
      "Team Ztot score: 1.45 standard deviations away from the Ztot mean\n"
     ]
    }
   ],
   "source": [
    "edts.team_selector_fwd_first(df5)"
   ]
  },
  {
   "cell_type": "code",
   "execution_count": null,
   "metadata": {},
   "outputs": [],
   "source": [
    "### This next function is also in my code module and handles all the work for you. \n",
    "### It calls the rest of the functions and prints the selected team.\n",
    "### You need to pass it three parameters:\n",
    "# year - 2011 to 2019\n",
    "# protect method - 'any8', 'hybrid', 'split73'\n",
    "# pick_method - 'strength', 'topdown','deffirst, 'fwdfirst', 'alternate' - the method for selecting a team."
   ]
  },
  {
   "cell_type": "code",
   "execution_count": 21,
   "metadata": {
    "scrolled": false
   },
   "outputs": [
    {
     "name": "stdout",
     "output_type": "stream",
     "text": [
      "               Player  Age   Tm Pos   PS  adjPTS  adj+/-   adjTOI  Ztot\n",
      "243    Nikolaj Ehlers   23  WPG  LW  6.8   66.99   16.17  1354.73  5.52\n",
      "706      Ondrej Palat   28  TBL  LW  4.7   48.72   29.71  1327.45  4.87\n",
      "275       Kevin Fiala   23  MIN  LW  6.0   69.19   -1.28  1263.31  4.39\n",
      "158          Ian Cole   30  COL   D  5.1   32.80   26.49  1450.77  4.16\n",
      "971       Jakub Vrana   23  WSH  LW  6.1   61.80    3.57  1220.49  4.08\n",
      "429  Patric Hornqvist   33  PIT  RW  3.9   50.46   14.19  1305.69  3.84\n",
      "240     Jordan Eberle   29  NYI  RW  4.1   56.55    1.41  1460.45  3.43\n",
      "917       Tomas Tatar   29  MTL   C  7.0   73.56    6.03  1336.12  3.21\n",
      "234        Vince Dunn   23  STL   D  5.3   26.56   17.32  1333.94  2.66\n",
      "362     Matt Grzelcyk   26  BOS   D  4.7   25.32   18.09  1480.82  2.54\n",
      "489      Zack Kassian   29  EDM  RW  3.6   47.25    0.00  1284.20  2.46\n",
      "379       Robert Hagg   24  PHI   D  3.3   21.76   23.43  1278.53  2.39\n",
      "280    Warren Foegele   23  CAR  LW  3.1   36.18   10.85  1123.88  2.26\n",
      "373   Erik Gustafsson   27  CGY   D  3.9   36.03  -11.18  1671.06  2.11\n",
      "867       Craig Smith   30  NSH   C  4.0   36.84   21.39  1100.46  2.09\n",
      "370    Denis Gurianov   22  DAL  RW  4.0   37.16    6.41  1064.72  2.01\n",
      "425       Justin Holl   28  TOR   D  3.5   21.71   15.68  1518.21  1.86\n",
      "822     Nick Schmaltz   23  ARI   C  4.3   52.71    3.51  1273.34  1.79\n",
      "87    Mark Borowiecki   30  OTT   D  3.4   27.85    1.55  1471.36  1.79\n",
      "750        Mark Pysyk   28  FLA   D  3.3   25.45    5.66  1046.21  1.72\n",
      "964       Jimmy Vesey   26  BUF  LW  2.0   25.62   15.38  1131.34  1.63\n",
      "885      Troy Stecher   25  VAN   D  3.8   20.20   11.88  1258.52  1.39\n",
      "782      Kevin Rooney   26  NJD   C  0.8   15.06   13.39   962.24  0.23\n",
      "Team is scored by the following stats: \n",
      "+/-: Goal differential. One of many player stats.\n",
      "PS: Player score:  An overall player evaluation stat provided by the NHL\n",
      "Ztot: My own overall player evaluation stat.\n",
      "Team adj+/- score: 1.94 standard deviations away from the adj+/- mean\n",
      "Team PS score: 1.53 standard deviations away from the PS mean\n",
      "Team Ztot score: 1.97 standard deviations away from the Ztot mean\n"
     ]
    }
   ],
   "source": [
    "edts.simulate_nhl_exp_draft(2019, 'hybrid', 'alternate')"
   ]
  },
  {
   "cell_type": "code",
   "execution_count": null,
   "metadata": {},
   "outputs": [],
   "source": []
  }
 ],
 "metadata": {
  "kernelspec": {
   "display_name": "Python 3",
   "language": "python",
   "name": "python3"
  },
  "language_info": {
   "codemirror_mode": {
    "name": "ipython",
    "version": 3
   },
   "file_extension": ".py",
   "mimetype": "text/x-python",
   "name": "python",
   "nbconvert_exporter": "python",
   "pygments_lexer": "ipython3",
   "version": "3.7.3"
  }
 },
 "nbformat": 4,
 "nbformat_minor": 2
}

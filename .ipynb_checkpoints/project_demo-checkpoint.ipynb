{
 "cells": [
  {
   "cell_type": "code",
   "execution_count": 1,
   "metadata": {
    "scrolled": false
   },
   "outputs": [],
   "source": [
    "import pandas as pd\n",
    "import numpy as np\n",
    "import matplotlib.pyplot as plt\n",
    "import os\n",
    "import sys\n",
    "sys.path.insert(0, os.path.abspath('./'))\n",
    "import exp_draft_team_selector as edts\n",
    "import warnings;\n",
    "warnings.filterwarnings('ignore');"
   ]
  },
  {
   "cell_type": "code",
   "execution_count": 2,
   "metadata": {},
   "outputs": [],
   "source": [
    "### This notebook runs the functions in my code module. The parameters passed to the functions\n",
    "### are:\n",
    "# Year (2011 - 2019) - need to pass this to each of the functions that need it.\n",
    "# protect method - 'split73', 'any8', or 'hybrid' - passed only to the team_processor().\n",
    "### Please note that each function also takes the dataframe created by the previous one.\n",
    "### These functions do not return a dataframe:\n",
    "#  calc_base_stats , team_selector_by_team_strength, team_selector_def_first, team_selector_fwd_first,\n",
    "# team_selector_best_top_down"
   ]
  },
  {
   "cell_type": "code",
   "execution_count": 2,
   "metadata": {
    "scrolled": true
   },
   "outputs": [],
   "source": [
    "df = edts.load_setup(2018)"
   ]
  },
  {
   "cell_type": "code",
   "execution_count": 3,
   "metadata": {},
   "outputs": [],
   "source": [
    "df1 = edts.calc_player_value(df)"
   ]
  },
  {
   "cell_type": "code",
   "execution_count": 4,
   "metadata": {},
   "outputs": [],
   "source": [
    "edts.calc_base_stats(df1)"
   ]
  },
  {
   "cell_type": "code",
   "execution_count": 5,
   "metadata": {
    "scrolled": true
   },
   "outputs": [],
   "source": [
    "df2 = edts.calc_team_strength(df1, 2018)"
   ]
  },
  {
   "cell_type": "code",
   "execution_count": 6,
   "metadata": {},
   "outputs": [],
   "source": [
    "df3 = edts.remove_first_second_years(df2,2018)"
   ]
  },
  {
   "cell_type": "code",
   "execution_count": 7,
   "metadata": {},
   "outputs": [],
   "source": [
    "df4 = edts.reduce_vars(df3) "
   ]
  },
  {
   "cell_type": "code",
   "execution_count": 8,
   "metadata": {},
   "outputs": [],
   "source": [
    "df5 = edts.team_processor(df4, 2018, 'split73')"
   ]
  },
  {
   "cell_type": "code",
   "execution_count": 12,
   "metadata": {},
   "outputs": [
    {
     "name": "stdout",
     "output_type": "stream",
     "text": [
      "                  Player  Age   Tm Pos   PS  adjPTS  adj+/-   adjTOI  Ztot\n",
      "324       Michael Frolik   30  CGY  LW  4.2   42.89   30.28  1095.02  4.89\n",
      "299      Micheal Ferland   26  CAR  LW  4.7   46.20   15.01  1156.08  4.03\n",
      "188       Brett Connolly   26  WSH  RW  5.2   46.57   13.16  1093.33  3.92\n",
      "967          P.K. Subban   29  NSH   D  5.8   40.35    6.51  1858.67  3.89\n",
      "893    Mikhail Sergachev   20  TBL   D  5.1   34.99   13.12  1469.44  3.56\n",
      "400          Ron Hainsey   37  TOR   D  5.6   23.28   30.37  1661.26  3.02\n",
      "701          Tyler Myers   28  WPG   D  5.8   31.78   11.28  1668.70  2.97\n",
      "130           Paul Byron   29  MTL   C  3.8   45.39   23.43  1194.86  2.93\n",
      "242       Joonas Donskoi   26  SJS  RW  3.4   37.92   10.25  1100.85  2.78\n",
      "70    Oliver Bjorkstrand   23  CBJ  RW  4.8   38.34    8.52  1011.69  2.69\n",
      "843      Antoine Roussel   29  VAN  LW  2.9   39.11    6.31  1127.82  2.59\n",
      "170        Casey Cizikas   27  NYI   C  4.6   37.07   24.71  1150.25  2.47\n",
      "861         Zach Sanford   24  STL  LW  2.0   27.33   10.93  1031.83  1.72\n",
      "1063      Nikita Zadorov   23  COL   D  4.4   16.40   22.26  1410.40  1.48\n",
      "886       Brent Seabrook   33  CHI   D  3.2   29.44   -6.31  1566.41  1.45\n",
      "612          Olli Maatta   24  PIT   D  2.7   19.13   12.30  1523.83  1.21\n",
      "199        Lawson Crouse   21  ARI  LW  2.6   25.31    5.06  1061.95  1.05\n",
      "895    Kevin Shattenkirk   30  NYR   D  3.1   31.45  -16.85  1553.51  1.04\n",
      "234      Jason Dickinson   23  DAL   C  1.9   26.93   11.01  1096.60  0.83\n",
      "844        Carter Rowney   29  ANA  RW  1.6   26.45    0.00  1028.97  0.77\n",
      "550          Sean Kuraly   26  BOS   C  1.6   24.25    6.93  1129.52  0.36\n",
      "399          Robert Hagg   23  PHI   D  3.3   20.00   -3.00  1390.00  0.31\n",
      "821            Ty Rattie   25  EDM  RW  0.5   18.04   -3.28   929.88 -0.37\n",
      "Team is scored by the following stats: \n",
      "+/-: Goal differential. One of many player stats.\n",
      "PS: Player score:  An overall player evaluation stat provided by the NHL\n",
      "Ztot: My own overall player evaluation stat.\n",
      "Team adj+/- score: 1.53 standard deviations away from the adj+/- mean\n",
      "Team PS score: 0.50 standard deviations away from the PS mean\n",
      "Team Ztot score: 0.97 standard deviations away from the Ztot mean\n"
     ]
    }
   ],
   "source": [
    "edts.team_selector_by_team_strength(df5)"
   ]
  },
  {
   "cell_type": "code",
   "execution_count": null,
   "metadata": {},
   "outputs": [],
   "source": [
    "### This next function is also in my code module and handles all the work for you. \n",
    "### It calls the rest of the functions and prints the selected team.\n",
    "### You need to pass it one extra parameter though:\n",
    "# pick_method - 'strength', or 'topdown' - the method for selecting a team.\n",
    "### The pick_method variable tell it which of two functions to call to select the \n",
    "### team.  The True/False variable is used if the method is 'strength'."
   ]
  },
  {
   "cell_type": "code",
   "execution_count": 13,
   "metadata": {
    "scrolled": true
   },
   "outputs": [
    {
     "name": "stdout",
     "output_type": "stream",
     "text": [
      "                   Player  Age   Tm Pos   PS  adjPTS  adj+/-   adjTOI  Ztot\n",
      "345          Yanni Gourde   26  TBL   C  7.7   64.00   34.00  1325.00  5.10\n",
      "288           Kevin Fiala   21  NSH  LW  6.0   49.20   20.50  1242.30  4.43\n",
      "424      Patric Hornqvist   31  PIT  RW  5.9   57.40    2.34  1420.94  3.51\n",
      "408         Thomas Hickey   28  NYI   D  5.1   29.71   23.77  1481.94  2.84\n",
      "34         Sven Baertschi   25  VAN  LW  3.3   44.87    4.64  1279.51  2.60\n",
      "286       Micheal Ferland   25  CGY  LW  4.7   43.66    5.32  1231.06  2.55\n",
      "276           Radek Faksa   24  DAL   C  4.2   34.25   21.80  1251.80  2.28\n",
      "105          Jonas Brodin   24  MIN   D  5.8   23.59   25.84  1771.42  2.26\n",
      "680         Stefan Noesen   24  NJD  RW  3.2   30.75   13.67  1089.92  2.16\n",
      "1009      Justin Williams   36  CAR  RW  4.4   51.00   -9.00  1360.00  1.91\n",
      "71          Nick Bjugstad   25  FLA   C  5.0   49.00    5.00  1240.00  1.88\n",
      "310        Marian Gaborik   35  OTT  RW  2.3   37.43    3.57  1146.22  1.83\n",
      "170              Ian Cole   28  CBJ   D  4.6   24.48   17.13  1457.64  1.82\n",
      "315     Brendan Gallagher   25  MTL  RW  6.5   54.00  -13.00  1325.00  1.81\n",
      "151           Ben Chiarot   26  WPG   D  3.4   20.14   21.58  1253.02  1.60\n",
      "40          Mark Barberio   27  COL   D  2.8   23.17   10.70  1417.17  1.27\n",
      "47    Francois Beauchemin   37  ANA   D  4.0   20.81   14.69  1419.70  1.25\n",
      "780         Michael Raffl   29  PHI  LW  2.1   23.74    9.71  1086.50  1.17\n",
      "916   Chandler Stephenson   23  WSH   C  1.6   22.03   15.91   972.99  1.06\n",
      "140        Connor Carrick   23  TOR   D  2.5   20.94    8.72  1240.47  0.89\n",
      "177       Kevin Connauton   27  ARI   D  5.0   23.59    3.37  1244.60  0.86\n",
      "216          Dylan DeMelo   24  SJS   D  3.0   26.03   -1.30  1164.92  0.85\n",
      "400           Darren Helm   31  DET   C  2.8   33.89    3.28  1275.92  0.80\n",
      "Team is scored by the following stats: \n",
      "+/-: Goal differential. One of many player stats.\n",
      "PS: Player score:  An overall player evaluation stat provided by the NHL\n",
      "Ztot: My own overall player evaluation stat.\n",
      "Team adj+/- score: 1.69 standard deviations away from the adj+/- mean\n",
      "Team PS score: 1.32 standard deviations away from the PS mean\n",
      "Team Ztot score: 1.06 standard deviations away from the Ztot mean\n"
     ]
    }
   ],
   "source": [
    "edts.simulate_nhl_exp_draft(2017, 'hybrid', 'deffirst')"
   ]
  },
  {
   "cell_type": "code",
   "execution_count": null,
   "metadata": {},
   "outputs": [],
   "source": []
  }
 ],
 "metadata": {
  "kernelspec": {
   "display_name": "Python 3",
   "language": "python",
   "name": "python3"
  },
  "language_info": {
   "codemirror_mode": {
    "name": "ipython",
    "version": 3
   },
   "file_extension": ".py",
   "mimetype": "text/x-python",
   "name": "python",
   "nbconvert_exporter": "python",
   "pygments_lexer": "ipython3",
   "version": "3.7.3"
  }
 },
 "nbformat": 4,
 "nbformat_minor": 2
}

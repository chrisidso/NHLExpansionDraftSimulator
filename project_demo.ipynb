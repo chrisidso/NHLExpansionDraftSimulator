{
 "cells": [
  {
   "cell_type": "code",
   "execution_count": 1,
   "metadata": {
    "scrolled": false
   },
   "outputs": [],
   "source": [
    "import pandas as pd\n",
    "import numpy as np\n",
    "import matplotlib.pyplot as plt\n",
    "import os\n",
    "import sys\n",
    "sys.path.insert(0, os.path.abspath('./'))\n",
    "import exp_draft_team_selector as edts\n",
    "import warnings;\n",
    "warnings.filterwarnings('ignore');"
   ]
  },
  {
   "cell_type": "code",
   "execution_count": 2,
   "metadata": {},
   "outputs": [],
   "source": [
    "### This notebook runs the functions in my code module. The parameters passed to the functions\n",
    "### are:\n",
    "# Year (2011 - 2019) - need to pass this to each of the functions that need it.\n",
    "# protect method - 'split73', 'any8', or 'hybrid' - passed only to the team_processor().\n",
    "# team_selector_by_team_strength - True/False.\n",
    "### Please note that each function also takes the dataframe created by the previous one.\n",
    "### Two functions do not return a dataframe:\n",
    "#  calc_base_stats\n",
    "#  team_selector_by_team_strength - returns the selected team and the score."
   ]
  },
  {
   "cell_type": "code",
   "execution_count": 5,
   "metadata": {
    "scrolled": true
   },
   "outputs": [],
   "source": [
    "df = edts.load_setup(2018)"
   ]
  },
  {
   "cell_type": "code",
   "execution_count": 6,
   "metadata": {
    "scrolled": false
   },
   "outputs": [],
   "source": [
    "edts.calc_base_stats(df)"
   ]
  },
  {
   "cell_type": "code",
   "execution_count": 7,
   "metadata": {},
   "outputs": [],
   "source": [
    "df1 = edts.calc_player_value(df)"
   ]
  },
  {
   "cell_type": "code",
   "execution_count": 8,
   "metadata": {
    "scrolled": true
   },
   "outputs": [],
   "source": [
    "df2 = edts.calc_team_strength(df1, 2018)"
   ]
  },
  {
   "cell_type": "code",
   "execution_count": 9,
   "metadata": {},
   "outputs": [],
   "source": [
    "df3 = edts.remove_first_second_years(df2,2018)"
   ]
  },
  {
   "cell_type": "code",
   "execution_count": 10,
   "metadata": {},
   "outputs": [],
   "source": [
    "df4 = edts.reduce_vars(df3) "
   ]
  },
  {
   "cell_type": "code",
   "execution_count": 11,
   "metadata": {},
   "outputs": [],
   "source": [
    "df5 = edts.team_processor(df4, 2018, 'split73')"
   ]
  },
  {
   "cell_type": "code",
   "execution_count": 12,
   "metadata": {
    "scrolled": true
   },
   "outputs": [
    {
     "name": "stdout",
     "output_type": "stream",
     "text": [
      "                 Player  Age   Tm Pos  GP  +/-   PS     adjPTS     adj+/-  \\\n",
      "324      Michael Frolik   30  CGY  LW  65   24  4.2  42.892308  30.276923   \n",
      "967         P.K. Subban   29  NSH   D  63    5  5.8  40.349206   6.507937   \n",
      "514       Michal Kempny   28  WSH   D  71   24  5.3  28.873239  27.718310   \n",
      "893   Mikhail Sergachev   20  TBL   D  75   12  5.1  34.986667  13.120000   \n",
      "299     Micheal Ferland   26  CAR  LW  71   13  4.7  46.197183  15.014085   \n",
      "400         Ron Hainsey   37  TOR   D  81   30  5.6  23.283951  30.370370   \n",
      "701         Tyler Myers   28  WPG   D  80   11  5.8  31.775000  11.275000   \n",
      "130          Paul Byron   29  MTL   C  56   16  3.8  45.392857  23.428571   \n",
      "170       Casey Cizikas   27  NYI   C  73   22  4.6  37.068493  24.712329   \n",
      "865        David Savard   28  CBJ   D  82   19  6.2  24.000000  19.000000   \n",
      "242      Joonas Donskoi   26  SJS  RW  80   10  3.4  37.925000  10.250000   \n",
      "843     Antoine Roussel   29  VAN  LW  65    5  2.9  39.107692   6.307692   \n",
      "1063     Nikita Zadorov   23  COL   D  70   19  4.4  16.400000  22.257143   \n",
      "861        Zach Sanford   24  STL  LW  60    8  2.0  27.333333  10.933333   \n",
      "886      Brent Seabrook   33  CHI   D  78   -6  3.2  29.435897  -6.307692   \n",
      "612         Olli Maatta   24  PIT   D  60    9  2.7  19.133333  12.300000   \n",
      "1012       Thomas Vanek   35  DET  LW  64  -12  3.3  46.125000 -15.375000   \n",
      "234     Jason Dickinson   23  DAL   C  67    9  1.9  26.925373  11.014925   \n",
      "199       Lawson Crouse   21  ARI  LW  81    5  2.6  25.308642   5.061728   \n",
      "844       Carter Rowney   29  ANA  RW  62    0  1.6  26.451613   0.000000   \n",
      "550         Sean Kuraly   26  BOS   C  71    6  1.6  24.253521   6.929577   \n",
      "814       Michael Raffl   30  PHI  LW  67   -1  1.0  22.029851  -1.223881   \n",
      "821           Ty Rattie   25  EDM  RW  50   -2  0.5  18.040000  -3.280000   \n",
      "\n",
      "           adjTOI  Status      Z+/-      Zpts      Ztot  Protect  \n",
      "324   1095.015385       0  2.766293  1.604501  4.370794        1  \n",
      "967   1858.666667       0  0.422287  3.466583  3.888871        1  \n",
      "514   1573.014085       0  1.842717  1.805615  3.648332        1  \n",
      "893   1469.440000       0  0.865088  2.690439  3.555527        1  \n",
      "299   1156.084507       0  1.567251  1.897915  3.465166        1  \n",
      "400   1661.259259       0  2.020322  0.996653  3.016974        1  \n",
      "701   1668.700000       0  0.741531  2.225600  2.967131        1  \n",
      "130   1194.857143       0  1.933885  0.991685  2.925570        1  \n",
      "170   1150.246575       0  2.025518  0.446627  2.472145        1  \n",
      "865   1619.000000       0  1.258864  1.100290  2.359153        1  \n",
      "242   1100.850000       0  1.192987  1.163493  2.356480        1  \n",
      "843   1127.815385       0  0.883281  1.268495  2.151776        1  \n",
      "1063  1410.400000       0  1.476990  0.000308  1.477298        1  \n",
      "861   1031.833333       0  1.246669  0.223143  1.469812        1  \n",
      "886   1566.410256       0 -0.435958  1.887051  1.451094        1  \n",
      "612   1523.833333       0  0.810174  0.395916  1.206089        1  \n",
      "1012  1156.968750       0 -0.820102  1.891507  1.071405        1  \n",
      "234   1096.597015       0  1.047809 -0.217520  0.830290        1  \n",
      "199   1061.950617       0  0.785398  0.043387  0.828785        1  \n",
      "844   1028.967742       0  0.387751  0.144862  0.532613        1  \n",
      "550   1129.521127       0  0.756201 -0.392466  0.363735        1  \n",
      "814    936.268657       0  0.291604 -0.247711  0.043892        1  \n",
      "821    929.880000       0  0.130076 -0.601939 -0.471863        1  \n",
      "1.7111595514027886\n"
     ]
    }
   ],
   "source": [
    "edts.team_selector_by_team_strength(df5, False)"
   ]
  },
  {
   "cell_type": "code",
   "execution_count": null,
   "metadata": {},
   "outputs": [],
   "source": [
    "### This next function is also in my code module and handles all the work for you. \n",
    "### It calls the rest of the functions and prints the selected team.\n",
    "### You need to pass it one extra parameter though:\n",
    "# pick_method - 'strength', or 'topdown' - the method for selecting a team.\n",
    "### The pick_method variable tell it which of two functions to call to select the \n",
    "### team.  The True/False variable is used if the method is 'strength'."
   ]
  },
  {
   "cell_type": "code",
   "execution_count": 2,
   "metadata": {
    "scrolled": true
   },
   "outputs": [
    {
     "name": "stdout",
     "output_type": "stream",
     "text": [
      "                 Player  Age   Tm Pos  GP  +/-   PS     adjPTS     adj+/-  \\\n",
      "324      Michael Frolik   30  CGY  LW  65   24  4.2  42.892308  30.276923   \n",
      "967         P.K. Subban   29  NSH   D  63    5  5.8  40.349206   6.507937   \n",
      "514       Michal Kempny   28  WSH   D  71   24  5.3  28.873239  27.718310   \n",
      "893   Mikhail Sergachev   20  TBL   D  75   12  5.1  34.986667  13.120000   \n",
      "299     Micheal Ferland   26  CAR  LW  71   13  4.7  46.197183  15.014085   \n",
      "400         Ron Hainsey   37  TOR   D  81   30  5.6  23.283951  30.370370   \n",
      "701         Tyler Myers   28  WPG   D  80   11  5.8  31.775000  11.275000   \n",
      "130          Paul Byron   29  MTL   C  56   16  3.8  45.392857  23.428571   \n",
      "170       Casey Cizikas   27  NYI   C  73   22  4.6  37.068493  24.712329   \n",
      "865        David Savard   28  CBJ   D  82   19  6.2  24.000000  19.000000   \n",
      "242      Joonas Donskoi   26  SJS  RW  80   10  3.4  37.925000  10.250000   \n",
      "843     Antoine Roussel   29  VAN  LW  65    5  2.9  39.107692   6.307692   \n",
      "1063     Nikita Zadorov   23  COL   D  70   19  4.4  16.400000  22.257143   \n",
      "861        Zach Sanford   24  STL  LW  60    8  2.0  27.333333  10.933333   \n",
      "886      Brent Seabrook   33  CHI   D  78   -6  3.2  29.435897  -6.307692   \n",
      "60         Matt Benning   24  EDM   D  70   11  4.0  19.914286  12.885714   \n",
      "1012       Thomas Vanek   35  DET  LW  64  -12  3.3  46.125000 -15.375000   \n",
      "913       Dominik Simon   24  PIT   C  71    8  2.3  32.338028   9.239437   \n",
      "799    Jason Pominville   36  BUF  RW  73   -4  3.2  34.821918  -4.493151   \n",
      "1015      Frank Vatrano   24  FLA  LW  81  -10  4.0  39.481481 -10.123457   \n",
      "234     Jason Dickinson   23  DAL   C  67    9  1.9  26.925373  11.014925   \n",
      "199       Lawson Crouse   21  ARI  LW  81    5  2.6  25.308642   5.061728   \n",
      "844       Carter Rowney   29  ANA  RW  62    0  1.6  26.451613   0.000000   \n",
      "\n",
      "           adjTOI  Status      Z+/-      Zpts      Ztot  Protect  \n",
      "324   1095.015385       0  2.766293  1.604501  4.370794        1  \n",
      "967   1858.666667       0  0.422287  3.466583  3.888871        1  \n",
      "514   1573.014085       0  1.842717  1.805615  3.648332        1  \n",
      "893   1469.440000       0  0.865088  2.690439  3.555527        1  \n",
      "299   1156.084507       0  1.567251  1.897915  3.465166        1  \n",
      "400   1661.259259       0  2.020322  0.996653  3.016974        1  \n",
      "701   1668.700000       0  0.741531  2.225600  2.967131        1  \n",
      "130   1194.857143       0  1.933885  0.991685  2.925570        1  \n",
      "170   1150.246575       0  2.025518  0.446627  2.472145        1  \n",
      "865   1619.000000       0  1.258864  1.100290  2.359153        1  \n",
      "242   1100.850000       0  1.192987  1.163493  2.356480        1  \n",
      "843   1127.815385       0  0.883281  1.268495  2.151776        1  \n",
      "1063  1410.400000       0  1.476990  0.000308  1.477298        1  \n",
      "861   1031.833333       0  1.246669  0.223143  1.469812        1  \n",
      "886   1566.410256       0 -0.435958  1.887051  1.451094        1  \n",
      "60    1225.314286       0  0.849398  0.508946  1.358345        1  \n",
      "1012  1156.968750       0 -0.820102  1.891507  1.071405        1  \n",
      "913   1092.563380       0  0.921076  0.136888  1.057964        1  \n",
      "799   1022.191781       0  0.034771  0.887995  0.922767        1  \n",
      "1015  1202.666667       0 -0.407543  1.301681  0.894138        1  \n",
      "234   1096.597015       0  1.047809 -0.217520  0.830290        1  \n",
      "199   1061.950617       0  0.785398  0.043387  0.828785        1  \n",
      "844   1028.967742       0  0.387751  0.144862  0.532613        1  \n",
      "1.6648614191419728\n"
     ]
    }
   ],
   "source": [
    "edts.simulate_nhl_exp_draft(2018,'split73','topdown', False)"
   ]
  },
  {
   "cell_type": "code",
   "execution_count": null,
   "metadata": {},
   "outputs": [],
   "source": []
  }
 ],
 "metadata": {
  "kernelspec": {
   "display_name": "Python 3",
   "language": "python",
   "name": "python3"
  },
  "language_info": {
   "codemirror_mode": {
    "name": "ipython",
    "version": 3
   },
   "file_extension": ".py",
   "mimetype": "text/x-python",
   "name": "python",
   "nbconvert_exporter": "python",
   "pygments_lexer": "ipython3",
   "version": "3.7.3"
  }
 },
 "nbformat": 4,
 "nbformat_minor": 2
}

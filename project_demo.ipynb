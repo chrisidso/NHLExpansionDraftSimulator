{
 "cells": [
  {
   "cell_type": "code",
   "execution_count": 1,
   "metadata": {
    "scrolled": false
   },
   "outputs": [],
   "source": [
    "import pandas as pd\n",
    "import numpy as np\n",
    "import matplotlib.pyplot as plt\n",
    "import os\n",
    "import sys\n",
    "sys.path.insert(0, os.path.abspath('./'))\n",
    "import exp_draft_team_selector as edts\n",
    "import warnings;\n",
    "warnings.filterwarnings('ignore');"
   ]
  },
  {
   "cell_type": "code",
   "execution_count": 2,
   "metadata": {},
   "outputs": [],
   "source": [
    "### This notebook runs the functions in my code module. The parameters passed to the functions\n",
    "### are:\n",
    "# Year (2011 - 2019) - need to pass this to each of the functions that need it.\n",
    "# protect method - 'split73', 'any8', or 'hybrid' - passed only to the team_processor().\n",
    "# team_selector_by_team_strength - True/False.\n",
    "### Please note that each function also takes the dataframe created by the previous one.\n",
    "### Two functions do not return a dataframe:\n",
    "#  calc_base_stats\n",
    "#  team_selector_by_team_strength - returns the selected team and the score."
   ]
  },
  {
   "cell_type": "code",
   "execution_count": 2,
   "metadata": {
    "scrolled": true
   },
   "outputs": [],
   "source": [
    "df = edts.load_setup(2018)"
   ]
  },
  {
   "cell_type": "code",
   "execution_count": 3,
   "metadata": {},
   "outputs": [],
   "source": [
    "df1 = edts.calc_player_value(df)"
   ]
  },
  {
   "cell_type": "code",
   "execution_count": 4,
   "metadata": {},
   "outputs": [],
   "source": [
    "edts.calc_base_stats(df1)"
   ]
  },
  {
   "cell_type": "code",
   "execution_count": 5,
   "metadata": {
    "scrolled": true
   },
   "outputs": [],
   "source": [
    "df2 = edts.calc_team_strength(df1, 2018)"
   ]
  },
  {
   "cell_type": "code",
   "execution_count": 6,
   "metadata": {},
   "outputs": [],
   "source": [
    "df3 = edts.remove_first_second_years(df2,2018)"
   ]
  },
  {
   "cell_type": "code",
   "execution_count": 7,
   "metadata": {},
   "outputs": [],
   "source": [
    "df4 = edts.reduce_vars(df3) "
   ]
  },
  {
   "cell_type": "code",
   "execution_count": 8,
   "metadata": {},
   "outputs": [],
   "source": [
    "df5 = edts.team_processor(df4, 2018, 'split73')"
   ]
  },
  {
   "cell_type": "code",
   "execution_count": 9,
   "metadata": {
    "scrolled": true
   },
   "outputs": [
    {
     "name": "stdout",
     "output_type": "stream",
     "text": [
      "                 Player  Age   Tm Pos   PS  adjPTS  adj+/-   adjTOI  Ztot\n",
      "324      Michael Frolik   30  CGY  LW  4.2   42.89   30.28  1095.02  4.37\n",
      "967         P.K. Subban   29  NSH   D  5.8   40.35    6.51  1858.67  3.89\n",
      "514       Michal Kempny   28  WSH   D  5.3   28.87   27.72  1573.01  3.65\n",
      "893   Mikhail Sergachev   20  TBL   D  5.1   34.99   13.12  1469.44  3.56\n",
      "299     Micheal Ferland   26  CAR  LW  4.7   46.20   15.01  1156.08  3.47\n",
      "400         Ron Hainsey   37  TOR   D  5.6   23.28   30.37  1661.26  3.02\n",
      "701         Tyler Myers   28  WPG   D  5.8   31.78   11.28  1668.70  2.97\n",
      "130          Paul Byron   29  MTL   C  3.8   45.39   23.43  1194.86  2.93\n",
      "170       Casey Cizikas   27  NYI   C  4.6   37.07   24.71  1150.25  2.47\n",
      "865        David Savard   28  CBJ   D  6.2   24.00   19.00  1619.00  2.36\n",
      "242      Joonas Donskoi   26  SJS  RW  3.4   37.92   10.25  1100.85  2.36\n",
      "843     Antoine Roussel   29  VAN  LW  2.9   39.11    6.31  1127.82  2.15\n",
      "1063     Nikita Zadorov   23  COL   D  4.4   16.40   22.26  1410.40  1.48\n",
      "861        Zach Sanford   24  STL  LW  2.0   27.33   10.93  1031.83  1.47\n",
      "886      Brent Seabrook   33  CHI   D  3.2   29.44   -6.31  1566.41  1.45\n",
      "612         Olli Maatta   24  PIT   D  2.7   19.13   12.30  1523.83  1.21\n",
      "1012       Thomas Vanek   35  DET  LW  3.3   46.12  -15.38  1156.97  1.07\n",
      "234     Jason Dickinson   23  DAL   C  1.9   26.93   11.01  1096.60  0.83\n",
      "199       Lawson Crouse   21  ARI  LW  2.6   25.31    5.06  1061.95  0.83\n",
      "844       Carter Rowney   29  ANA  RW  1.6   26.45    0.00  1028.97  0.53\n",
      "550         Sean Kuraly   26  BOS   C  1.6   24.25    6.93  1129.52  0.36\n",
      "814       Michael Raffl   30  PHI  LW  1.0   22.03   -1.22   936.27  0.04\n",
      "821           Ty Rattie   25  EDM  RW  0.5   18.04   -3.28   929.88 -0.47\n",
      "Team is scored by the following stats: \n",
      "+/-: Goal differential. One of many player stats.\n",
      "PS: Player score:  An overall player evaluation stat provided by the NHL\n",
      "Ztot: My own overall player evaluation stat.\n",
      "Team adj+/- score: 1.71 standard deviations away from the adj+/- mean\n",
      "Team PS score: 0.46 standard deviations away from the PS mean\n",
      "Team Ztot score: 0.96 standard deviations away from the Ztot mean\n"
     ]
    }
   ],
   "source": [
    "edts.team_selector_by_team_strength(df5, False)"
   ]
  },
  {
   "cell_type": "code",
   "execution_count": null,
   "metadata": {},
   "outputs": [],
   "source": [
    "### This next function is also in my code module and handles all the work for you. \n",
    "### It calls the rest of the functions and prints the selected team.\n",
    "### You need to pass it one extra parameter though:\n",
    "# pick_method - 'strength', or 'topdown' - the method for selecting a team.\n",
    "### The pick_method variable tell it which of two functions to call to select the \n",
    "### team.  The True/False variable is used if the method is 'strength'."
   ]
  },
  {
   "cell_type": "code",
   "execution_count": 10,
   "metadata": {
    "scrolled": true
   },
   "outputs": [
    {
     "name": "stdout",
     "output_type": "stream",
     "text": [
      "                 Player  Age   Tm Pos   PS  adjPTS  adj+/-   adjTOI  Ztot\n",
      "324      Michael Frolik   30  CGY  LW  4.2   42.89   30.28  1095.02  4.37\n",
      "967         P.K. Subban   29  NSH   D  5.8   40.35    6.51  1858.67  3.89\n",
      "514       Michal Kempny   28  WSH   D  5.3   28.87   27.72  1573.01  3.65\n",
      "893   Mikhail Sergachev   20  TBL   D  5.1   34.99   13.12  1469.44  3.56\n",
      "299     Micheal Ferland   26  CAR  LW  4.7   46.20   15.01  1156.08  3.47\n",
      "400         Ron Hainsey   37  TOR   D  5.6   23.28   30.37  1661.26  3.02\n",
      "701         Tyler Myers   28  WPG   D  5.8   31.78   11.28  1668.70  2.97\n",
      "130          Paul Byron   29  MTL   C  3.8   45.39   23.43  1194.86  2.93\n",
      "170       Casey Cizikas   27  NYI   C  4.6   37.07   24.71  1150.25  2.47\n",
      "865        David Savard   28  CBJ   D  6.2   24.00   19.00  1619.00  2.36\n",
      "242      Joonas Donskoi   26  SJS  RW  3.4   37.92   10.25  1100.85  2.36\n",
      "843     Antoine Roussel   29  VAN  LW  2.9   39.11    6.31  1127.82  2.15\n",
      "1063     Nikita Zadorov   23  COL   D  4.4   16.40   22.26  1410.40  1.48\n",
      "861        Zach Sanford   24  STL  LW  2.0   27.33   10.93  1031.83  1.47\n",
      "886      Brent Seabrook   33  CHI   D  3.2   29.44   -6.31  1566.41  1.45\n",
      "60         Matt Benning   24  EDM   D  4.0   19.91   12.89  1225.31  1.36\n",
      "1012       Thomas Vanek   35  DET  LW  3.3   46.12  -15.38  1156.97  1.07\n",
      "913       Dominik Simon   24  PIT   C  2.3   32.34    9.24  1092.56  1.06\n",
      "799    Jason Pominville   36  BUF  RW  3.2   34.82   -4.49  1022.19  0.92\n",
      "1015      Frank Vatrano   24  FLA  LW  4.0   39.48  -10.12  1202.67  0.89\n",
      "234     Jason Dickinson   23  DAL   C  1.9   26.93   11.01  1096.60  0.83\n",
      "199       Lawson Crouse   21  ARI  LW  2.6   25.31    5.06  1061.95  0.83\n",
      "844       Carter Rowney   29  ANA  RW  1.6   26.45    0.00  1028.97  0.53\n",
      "Team is scored by the following stats: \n",
      "+/-: Goal differential. One of many player stats.\n",
      "PS: Player score:  An overall player evaluation stat provided by the NHL\n",
      "Ztot: My own overall player evaluation stat.\n",
      "Team adj+/- score: 1.66 standard deviations away from the adj+/- mean\n",
      "Team PS score: 0.91 standard deviations away from the PS mean\n",
      "Team Ztot score: 1.11 standard deviations away from the Ztot mean\n"
     ]
    }
   ],
   "source": [
    "edts.simulate_nhl_exp_draft(2018,'split73','topdown', False)"
   ]
  },
  {
   "cell_type": "code",
   "execution_count": null,
   "metadata": {},
   "outputs": [],
   "source": []
  }
 ],
 "metadata": {
  "kernelspec": {
   "display_name": "Python 3",
   "language": "python",
   "name": "python3"
  },
  "language_info": {
   "codemirror_mode": {
    "name": "ipython",
    "version": 3
   },
   "file_extension": ".py",
   "mimetype": "text/x-python",
   "name": "python",
   "nbconvert_exporter": "python",
   "pygments_lexer": "ipython3",
   "version": "3.7.3"
  }
 },
 "nbformat": 4,
 "nbformat_minor": 2
}
